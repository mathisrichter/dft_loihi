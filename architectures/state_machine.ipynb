from dft import StateMachine, create_simulated_input, create_spike_probes, draw_plots

TIMESTEPS = 30
    
net = nx.NxNet()
    
state_machine = StateMachine(net)
    
out_groups, simulated_inputs = create_simulated_input(net, TIMESTEPS)
state_machine.connect_in(out_groups)   
    
net.run(TIMESTEPS)
net.disconnect()
    
create_visualization(state_machine.behaviors, state_machine.behavior_dictionary, TIMESTEPS)
    
#for input in simulated_inputs:
#    input.plot()        
    
#for behavior in state_machine.behaviors:
#    behavior.plot()
